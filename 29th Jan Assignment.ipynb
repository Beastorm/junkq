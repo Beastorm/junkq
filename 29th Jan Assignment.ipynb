{
 "cells": [
  {
   "cell_type": "markdown",
   "id": "a87859fe-f63d-4552-9fb0-40241a6957b6",
   "metadata": {},
   "source": [
    "Question 1: Who developed python programming language?"
   ]
  },
  {
   "cell_type": "markdown",
   "id": "fb86fcc0-2e86-4cb0-8a82-46db578ae23f",
   "metadata": {},
   "source": [
    "Answer: Python language was developed by Gudio Van Rossums in 1991."
   ]
  },
  {
   "cell_type": "markdown",
   "id": "817599bb-7404-4fd7-988c-9a3f8f59c6b6",
   "metadata": {},
   "source": [
    "Question 2: Which type of programming does python support?"
   ]
  },
  {
   "cell_type": "markdown",
   "id": "76be82f8-a583-4cf6-b403-a2be2ad86e65",
   "metadata": {},
   "source": [
    "Answer: Python is a multi-paradigm programming language. It supports object oriented paradigm, functional programming style, and procedural programming style. "
   ]
  },
  {
   "cell_type": "markdown",
   "id": "182cf30b-40bf-4f73-962f-c9ff523d55e4",
   "metadata": {},
   "source": [
    "Question 3: Is python case sensitive when dealing with identifires?"
   ]
  },
  {
   "cell_type": "markdown",
   "id": "6f4a04a3-6d82-4f26-8e2c-8c23292fb67f",
   "metadata": {},
   "source": [
    "Answer: Yes python is case sensitive with respect to identifires."
   ]
  },
  {
   "cell_type": "markdown",
   "id": "30a01864-a0d2-4295-b376-d275e335a831",
   "metadata": {},
   "source": [
    "Question 4: What is the correct extension of the python file? "
   ]
  },
  {
   "cell_type": "markdown",
   "id": "e9745299-48d8-4953-a0e9-44a4a5d49204",
   "metadata": {},
   "source": [
    "Answer: The correct file extension used with python file is .py."
   ]
  },
  {
   "cell_type": "markdown",
   "id": "2fc14bf7-6364-47e0-90ed-f44d4c82b6c7",
   "metadata": {},
   "source": [
    "Question 5: Is Python code interpreted or compiled?"
   ]
  },
  {
   "cell_type": "markdown",
   "id": "59d6cea3-6045-49b9-896c-e24fd5e3be25",
   "metadata": {},
   "source": [
    "Answer: Python is interpreted language."
   ]
  },
  {
   "cell_type": "markdown",
   "id": "40c6b8f5-f195-4f54-8314-eccc3a6db5cf",
   "metadata": {},
   "source": [
    "Question 6: Name a few blocks of code used to define in Pyhton language?"
   ]
  },
  {
   "cell_type": "markdown",
   "id": "8bbfc114-0de4-4560-b5fb-6c867f3a9c83",
   "metadata": {},
   "source": [
    "Answer: We have global scope and local scope. we generally have fucntion block, loop block, and if blocks etc."
   ]
  },
  {
   "cell_type": "markdown",
   "id": "e81c44b7-b5fb-4b37-b37f-e092361670ed",
   "metadata": {},
   "source": [
    "Question 7: State a character used to give single line comments in python?"
   ]
  },
  {
   "cell_type": "markdown",
   "id": "81309710-052c-409b-9c56-a30b138e6180",
   "metadata": {},
   "source": [
    "Answer: We generally used # character for single line comment."
   ]
  },
  {
   "cell_type": "markdown",
   "id": "45871a12-b36a-4e3f-b412-7e312d49a788",
   "metadata": {},
   "source": [
    "Question 8: Mention functions which can help us to find the version of python that we are currently working on?"
   ]
  },
  {
   "cell_type": "markdown",
   "id": "1f77a9d6-a211-4ba7-a345-588cc606fb32",
   "metadata": {},
   "source": [
    "Answer: We can use python_version() function to find th version of current python."
   ]
  },
  {
   "cell_type": "markdown",
   "id": "6961f196-5dde-498c-a487-69f07039cb52",
   "metadata": {},
   "source": [
    "Question 9: Python support creation of anonymous function at runtime, using a construct called  ............?"
   ]
  },
  {
   "cell_type": "markdown",
   "id": "75e11db2-017c-45ed-a205-b3a44e766b72",
   "metadata": {},
   "source": [
    "Answer: We use lambda construct to create anonymous function."
   ]
  },
  {
   "cell_type": "markdown",
   "id": "ab36f0f2-c19a-42e7-898f-699e3720efff",
   "metadata": {},
   "source": [
    "Question 10: What does pip stand for python?"
   ]
  },
  {
   "cell_type": "markdown",
   "id": "30cad643-1117-4501-baf2-4a0be66672e2",
   "metadata": {},
   "source": [
    "Answer: pip stand for \"pip Install Packages\". we use this tool to install python packages."
   ]
  },
  {
   "cell_type": "markdown",
   "id": "5787b761-d33f-4de7-9139-24fa43e3234d",
   "metadata": {},
   "source": [
    "Question 11: Mention a few built-in functions in python?"
   ]
  },
  {
   "cell_type": "markdown",
   "id": "66ca6fd2-370f-4823-b95d-7a5015de93ea",
   "metadata": {},
   "source": [
    "Answer: we have so many built in function in python. \n",
    "Like, \n",
    "1. print()--> to print something on console.\n",
    "1. type()--> to find the data type of object at runtime.\n",
    "1. id()--> to find the identity of an object.\n",
    "\n",
    "etc."
   ]
  },
  {
   "cell_type": "markdown",
   "id": "439ef6a6-ede6-471e-8066-6e25ec94ac89",
   "metadata": {},
   "source": [
    "Question 12: What the is maximum possible length of identifires in python?"
   ]
  },
  {
   "cell_type": "markdown",
   "id": "7af4feca-0b65-4300-8bb0-38ccc5afc412",
   "metadata": {},
   "source": [
    "Answer: Maximum possible length of identifires is 79 characters"
   ]
  },
  {
   "cell_type": "markdown",
   "id": "ae8145f0-a57a-483b-9c87-bbccafac47b4",
   "metadata": {},
   "source": [
    "Question 13: What are the benefits of using Python?"
   ]
  },
  {
   "cell_type": "markdown",
   "id": "56548629-9e8a-4b63-9033-378d088a0110",
   "metadata": {},
   "source": [
    "Answer: There are many advantages of python. Some of them are,\n",
    "1. Syntax is easier than in other languages like C, C++, and Java.\n",
    "1. Support Multi-paradigm programming style.\n",
    "1. Less boilerplate code compare to others.\n",
    "1. We can find many usages of this language in other areas like Robotics, Machine learning, and Embedded Programming."
   ]
  },
  {
   "cell_type": "markdown",
   "id": "683fb0ce-b31c-46ad-b181-5ab87d540269",
   "metadata": {},
   "source": [
    "Question 14: How is memory managed in Pyhton?"
   ]
  },
  {
   "cell_type": "markdown",
   "id": "4381a879-c3fc-453a-9fd2-9ab26fd79cb6",
   "metadata": {},
   "source": [
    "Answer: Whatever we create objects in python is allocated in heap that is managed by Python memory manager to ensure that there is no crunch of memory."
   ]
  },
  {
   "cell_type": "markdown",
   "id": "f7528d75-d573-4d70-9104-bdce7241b382",
   "metadata": {},
   "source": [
    "Question 15: How to install Python on windows and set path variable?"
   ]
  },
  {
   "cell_type": "markdown",
   "id": "a6c7a011-7bd7-472a-b209-04e6c91af0e4",
   "metadata": {},
   "source": [
    "Answer: There are some steps involved in this process,\n",
    "1. we have to download python from the python official site. Once downloaded we have to install the exe file.\n",
    "1. then we have to set the path of python as an environment variable in the PATH section."
   ]
  },
  {
   "cell_type": "markdown",
   "id": "3db00a3a-42c4-4d4a-b1ae-3c72a8074fd5",
   "metadata": {},
   "source": [
    "Question 16: Is identation required in Python?"
   ]
  },
  {
   "cell_type": "markdown",
   "id": "418300bb-df36-4822-8681-c8de3eb2e589",
   "metadata": {},
   "source": [
    "Answer: Yes indentation is required. As it does not support the curly brace style of a block of code."
   ]
  }
 ],
 "metadata": {
  "kernelspec": {
   "display_name": "Python 3 (ipykernel)",
   "language": "python",
   "name": "python3"
  },
  "language_info": {
   "codemirror_mode": {
    "name": "ipython",
    "version": 3
   },
   "file_extension": ".py",
   "mimetype": "text/x-python",
   "name": "python",
   "nbconvert_exporter": "python",
   "pygments_lexer": "ipython3",
   "version": "3.10.8"
  }
 },
 "nbformat": 4,
 "nbformat_minor": 5
}
